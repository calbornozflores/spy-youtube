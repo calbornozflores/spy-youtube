{
 "cells": [
  {
   "cell_type": "code",
   "execution_count": 1,
   "metadata": {},
   "outputs": [],
   "source": [
    "import pandas as pd\n",
    "from googleapiclient.discovery import build\n",
    "import datetime\n",
    "import progressbar\n",
    "from pathlib import Path\n",
    "import isodate\n",
    "from IPython.display import JSON"
   ]
  },
  {
   "cell_type": "code",
   "execution_count": 2,
   "metadata": {},
   "outputs": [],
   "source": [
    "api_key = open('API_KEY.txt', 'r').readline()"
   ]
  },
  {
   "cell_type": "markdown",
   "metadata": {},
   "source": [
    "# Getting top finance channels"
   ]
  },
  {
   "cell_type": "code",
   "execution_count": 3,
   "metadata": {},
   "outputs": [
    {
     "data": {
      "application/json": {
       "etag": "tUFeC4hpgxMDtKj6RUUvuGCQumk",
       "items": [
        {
         "contentDetails": {
          "relatedPlaylists": {
           "likes": "",
           "uploads": "UUV6KDgJskWaEckne5aPA0aQ"
          }
         },
         "etag": "WmOGNJlsXKdzbnVpZxFVcNKtenM",
         "id": "UCV6KDgJskWaEckne5aPA0aQ",
         "kind": "youtube#channel",
         "snippet": {
          "country": "US",
          "customUrl": "grahamstephan",
          "description": "As a 30 year old real estate agent and investor who started working in real estate shortly after turning 18, with over $120,000,000 in residential real estate sales since 2008, I've created this channel to share my successes, failures, and experiences in the real estate industry and to support others who are thinking of getting into the business. Oh, and I'm also obsessed with cars. A lot. So expect to see some cars uploaded to my channel. A lot. And Subscribe. Because all the cool kids are doing it.  \n\nFeel free to follow me on Snapchat / Instagram: GPStephan",
          "localized": {
           "description": "As a 30 year old real estate agent and investor who started working in real estate shortly after turning 18, with over $120,000,000 in residential real estate sales since 2008, I've created this channel to share my successes, failures, and experiences in the real estate industry and to support others who are thinking of getting into the business. Oh, and I'm also obsessed with cars. A lot. So expect to see some cars uploaded to my channel. A lot. And Subscribe. Because all the cool kids are doing it.  \n\nFeel free to follow me on Snapchat / Instagram: GPStephan",
           "title": "Graham Stephan"
          },
          "publishedAt": "2016-12-25T07:48:56Z",
          "thumbnails": {
           "default": {
            "height": 88,
            "url": "https://yt3.ggpht.com/ytc/AKedOLSzqVWzj9Fx8Wtf3sUIid9DAh3Qyzr1sjZ34MyGmQ=s88-c-k-c0x00ffffff-no-rj",
            "width": 88
           },
           "high": {
            "height": 800,
            "url": "https://yt3.ggpht.com/ytc/AKedOLSzqVWzj9Fx8Wtf3sUIid9DAh3Qyzr1sjZ34MyGmQ=s800-c-k-c0x00ffffff-no-rj",
            "width": 800
           },
           "medium": {
            "height": 240,
            "url": "https://yt3.ggpht.com/ytc/AKedOLSzqVWzj9Fx8Wtf3sUIid9DAh3Qyzr1sjZ34MyGmQ=s240-c-k-c0x00ffffff-no-rj",
            "width": 240
           }
          },
          "title": "Graham Stephan"
         },
         "statistics": {
          "hiddenSubscriberCount": false,
          "subscriberCount": "3880000",
          "videoCount": "800",
          "viewCount": "391018385"
         }
        },
        {
         "contentDetails": {
          "relatedPlaylists": {
           "likes": "",
           "uploads": "UUGy7SkBjcIAgTiwkXEtPnYg"
          }
         },
         "etag": "M0BgLM8m2VxwUwh7VVSLw4YEQ3s",
         "id": "UCGy7SkBjcIAgTiwkXEtPnYg",
         "kind": "youtube#channel",
         "snippet": {
          "country": "US",
          "customUrl": "andreijikh",
          "description": "I will NEVER contact you for business or promotions (even if it comes from my legit email). I will not use IG, Telegram, or whatsapp to reach out - please ignore and report those accounts. \n\nI'm like Harry Potter - if he was a financial minimalist, did card tricks and worried about money. Biz inquiries: andrei@majikh.com\n",
          "localized": {
           "description": "I will NEVER contact you for business or promotions (even if it comes from my legit email). I will not use IG, Telegram, or whatsapp to reach out - please ignore and report those accounts. \n\nI'm like Harry Potter - if he was a financial minimalist, did card tricks and worried about money. Biz inquiries: andrei@majikh.com\n",
           "title": "Andrei Jikh"
          },
          "publishedAt": "2017-03-24T00:43:42Z",
          "thumbnails": {
           "default": {
            "height": 88,
            "url": "https://yt3.ggpht.com/ytc/AKedOLQbUCqhdjt8H8cC7bev_KPcQ-OKuwG-DRrZ3hws_Q=s88-c-k-c0x00ffffff-no-rj",
            "width": 88
           },
           "high": {
            "height": 800,
            "url": "https://yt3.ggpht.com/ytc/AKedOLQbUCqhdjt8H8cC7bev_KPcQ-OKuwG-DRrZ3hws_Q=s800-c-k-c0x00ffffff-no-rj",
            "width": 800
           },
           "medium": {
            "height": 240,
            "url": "https://yt3.ggpht.com/ytc/AKedOLQbUCqhdjt8H8cC7bev_KPcQ-OKuwG-DRrZ3hws_Q=s240-c-k-c0x00ffffff-no-rj",
            "width": 240
           }
          },
          "title": "Andrei Jikh"
         },
         "statistics": {
          "hiddenSubscriberCount": false,
          "subscriberCount": "2070000",
          "videoCount": "415",
          "viewCount": "198416221"
         }
        }
       ],
       "kind": "youtube#channelListResponse",
       "pageInfo": {
        "resultsPerPage": 5,
        "totalResults": 2
       }
      },
      "text/plain": [
       "<IPython.core.display.JSON object>"
      ]
     },
     "execution_count": 3,
     "metadata": {
      "application/json": {
       "expanded": false,
       "root": "root"
      }
     },
     "output_type": "execute_result"
    }
   ],
   "source": [
    "api_service_name = \"youtube\"\n",
    "api_version = \"v3\"\n",
    "\n",
    "youtube = build(api_service_name, api_version, developerKey=api_key)\n",
    "\n",
    "channels_id = [\n",
    "    \"UCV6KDgJskWaEckne5aPA0aQ\", # GrahamStephan\n",
    "    \"UCGy7SkBjcIAgTiwkXEtPnYg\" # AndreiJikh (No personal stuff putting you second Andrei)\n",
    "]\n",
    "\n",
    "channels_info = []\n",
    "\n",
    "request = youtube.channels().list(\n",
    "    part = \"snippet,contentDetails,statistics\",\n",
    "    id=','.join(channels_id)\n",
    ")\n",
    "response = request.execute()\n",
    "\n",
    "for channel_responde in response[\"items\"]:\n",
    "    ch_info = {\n",
    "        \"channelName\": channel_responde[\"snippet\"][\"title\"],\n",
    "        \"startDate\": channel_responde[\"snippet\"][\"publishedAt\"],\n",
    "        \"relatedPlaylist\": channel_responde[\"contentDetails\"][\"relatedPlaylists\"][\"uploads\"],\n",
    "        \"totalViews\": int(channel_responde[\"statistics\"][\"viewCount\"]),\n",
    "        \"subscriberCount\": int(channel_responde[\"statistics\"][\"subscriberCount\"]),\n",
    "        \"videoCount\": int(channel_responde[\"statistics\"][\"videoCount\"]),\n",
    "        \"extractionDate\": datetime.datetime.strftime(datetime.datetime.now(), \"%Y-%m-%d\")\n",
    "    }\n",
    "    \n",
    "    channels_info.append(ch_info)\n",
    "\n",
    "channelsInfo = pd.DataFrame(channels_info)\n",
    "\n",
    "JSON(response)"
   ]
  },
  {
   "cell_type": "code",
   "execution_count": 4,
   "metadata": {},
   "outputs": [
    {
     "data": {
      "text/html": [
       "<div>\n",
       "<style scoped>\n",
       "    .dataframe tbody tr th:only-of-type {\n",
       "        vertical-align: middle;\n",
       "    }\n",
       "\n",
       "    .dataframe tbody tr th {\n",
       "        vertical-align: top;\n",
       "    }\n",
       "\n",
       "    .dataframe thead th {\n",
       "        text-align: right;\n",
       "    }\n",
       "</style>\n",
       "<table border=\"1\" class=\"dataframe\">\n",
       "  <thead>\n",
       "    <tr style=\"text-align: right;\">\n",
       "      <th></th>\n",
       "      <th>channelName</th>\n",
       "      <th>startDate</th>\n",
       "      <th>relatedPlaylist</th>\n",
       "      <th>totalViews</th>\n",
       "      <th>subscriberCount</th>\n",
       "      <th>videoCount</th>\n",
       "      <th>extractionDate</th>\n",
       "    </tr>\n",
       "  </thead>\n",
       "  <tbody>\n",
       "    <tr>\n",
       "      <th>0</th>\n",
       "      <td>Graham Stephan</td>\n",
       "      <td>2016-12-25T07:48:56Z</td>\n",
       "      <td>UUV6KDgJskWaEckne5aPA0aQ</td>\n",
       "      <td>391018385</td>\n",
       "      <td>3880000</td>\n",
       "      <td>800</td>\n",
       "      <td>2022-07-11</td>\n",
       "    </tr>\n",
       "    <tr>\n",
       "      <th>1</th>\n",
       "      <td>Andrei Jikh</td>\n",
       "      <td>2017-03-24T00:43:42Z</td>\n",
       "      <td>UUGy7SkBjcIAgTiwkXEtPnYg</td>\n",
       "      <td>198416221</td>\n",
       "      <td>2070000</td>\n",
       "      <td>415</td>\n",
       "      <td>2022-07-11</td>\n",
       "    </tr>\n",
       "  </tbody>\n",
       "</table>\n",
       "</div>"
      ],
      "text/plain": [
       "      channelName             startDate           relatedPlaylist  totalViews  \\\n",
       "0  Graham Stephan  2016-12-25T07:48:56Z  UUV6KDgJskWaEckne5aPA0aQ   391018385   \n",
       "1     Andrei Jikh  2017-03-24T00:43:42Z  UUGy7SkBjcIAgTiwkXEtPnYg   198416221   \n",
       "\n",
       "   subscriberCount  videoCount extractionDate  \n",
       "0          3880000         800     2022-07-11  \n",
       "1          2070000         415     2022-07-11  "
      ]
     },
     "execution_count": 4,
     "metadata": {},
     "output_type": "execute_result"
    }
   ],
   "source": [
    "channelsInfo.head()"
   ]
  },
  {
   "cell_type": "code",
   "execution_count": 5,
   "metadata": {
    "tags": []
   },
   "outputs": [],
   "source": [
    "def get_videos_from_playlist(playlistId):\n",
    "    request = youtube.playlistItems().list(\n",
    "        part = \"contentDetails\",\n",
    "        playlistId = playlistId,\n",
    "        maxResults = 50\n",
    "    )\n",
    "    response = request.execute()\n",
    "\n",
    "    videoId_list = []\n",
    "    for video_response in response[\"items\"]:\n",
    "        videoId_list.append(video_response[\"contentDetails\"][\"videoId\"])\n",
    "\n",
    "    next_page_token = response.get('nextPageToken')\n",
    "\n",
    "    while next_page_token is not None:\n",
    "        request = youtube.playlistItems().list(\n",
    "            part = \"contentDetails\",\n",
    "            playlistId = playlistId,\n",
    "            maxResults = 50,\n",
    "            pageToken = next_page_token\n",
    "        )\n",
    "        response = request.execute()\n",
    "\n",
    "        for video_response in response[\"items\"]:\n",
    "            videoId_list.append(video_response[\"contentDetails\"][\"videoId\"])\n",
    "\n",
    "        next_page_token = response.get('nextPageToken')\n",
    "    \n",
    "    return videoId_list"
   ]
  },
  {
   "cell_type": "markdown",
   "metadata": {
    "tags": []
   },
   "source": [
    "# Extracting individual videoId for every youtuber"
   ]
  },
  {
   "cell_type": "code",
   "execution_count": 6,
   "metadata": {},
   "outputs": [],
   "source": [
    "channel_videos = {}\n",
    "for ch_name in channelsInfo.channelName:\n",
    "    playlistId = channelsInfo[channelsInfo.channelName == ch_name].relatedPlaylist.values[0]\n",
    "    channel_videos[ch_name] = get_videos_from_playlist(playlistId)"
   ]
  },
  {
   "cell_type": "markdown",
   "metadata": {
    "tags": []
   },
   "source": [
    "## Validating if the extraction works out completely "
   ]
  },
  {
   "cell_type": "code",
   "execution_count": 7,
   "metadata": {},
   "outputs": [],
   "source": [
    "for ch_name in channelsInfo.channelName:\n",
    "    assert channelsInfo[channelsInfo.channelName == ch_name].videoCount.values[0] == len(channel_videos[ch_name]), \\\n",
    "        \"Extraction doesn't match\""
   ]
  },
  {
   "cell_type": "code",
   "execution_count": 8,
   "metadata": {},
   "outputs": [
    {
     "name": "stdout",
     "output_type": "stream",
     "text": [
      "The full video list contains: 1215 [ids]\n"
     ]
    }
   ],
   "source": [
    "full_video_list = []\n",
    "for channel_video_list in channel_videos.values():\n",
    "    full_video_list = full_video_list + channel_video_list\n",
    "\n",
    "print(f\"The full video list contains: {len(full_video_list)} [ids]\")"
   ]
  },
  {
   "cell_type": "markdown",
   "metadata": {},
   "source": [
    "# Extracting all video stats"
   ]
  },
  {
   "cell_type": "code",
   "execution_count": 9,
   "metadata": {
    "tags": []
   },
   "outputs": [
    {
     "name": "stderr",
     "output_type": "stream",
     "text": [
      "[########################################################################] 100%\n"
     ]
    }
   ],
   "source": [
    "def partition(lst, size):\n",
    "    for i in range(0, len(lst), size):\n",
    "        yield lst[i : i+size]\n",
    "\n",
    "to_extract = {\n",
    "    \"snippet\": [\"channelTitle\", \"title\", \"description\", \"tags\", \"publishedAt\"],\n",
    "    \"contentDetails\": [\"duration\", \"definition\", \"caption\"],\n",
    "    \"statistics\": [\"viewCount\", \"likeCount\", \"favoriteCount\", \"commentCount\"],\n",
    "}\n",
    "\n",
    "bar = progressbar.ProgressBar(maxval=len(full_video_list), \\\n",
    "        widgets=[progressbar.Bar(u\"#\", '[', ']'), ' ', progressbar.Percentage()])\n",
    "bar.start()\n",
    "\n",
    "videoInfo_list = []\n",
    "for video_list_partition in list(partition(full_video_list, 50)):\n",
    "    request = youtube.videos().list(\n",
    "        part = \"snippet,contentDetails,statistics\",\n",
    "        id = \",\".join(video_list_partition),\n",
    "        maxResults = 50\n",
    "    )\n",
    "    response = request.execute()\n",
    "    \n",
    "    \n",
    "    for idx, video_response in enumerate(response[\"items\"]):\n",
    "        videoInfo_dict = {}\n",
    "        videoInfo_dict[\"videoId\"] = video_response[\"id\"]\n",
    "        for k in to_extract.keys():\n",
    "            for v in to_extract[k]:\n",
    "                try:\n",
    "                    videoInfo_dict[v] = video_response[k][v]\n",
    "                except KeyError:\n",
    "                    videoInfo_dict[v] = None\n",
    "        videoInfo_list.append(videoInfo_dict)\n",
    "        bar.update(idx+1)\n",
    "\n",
    "bar.finish()\n",
    "\n",
    "videos_df = pd.DataFrame(videoInfo_list)"
   ]
  },
  {
   "cell_type": "code",
   "execution_count": 10,
   "metadata": {},
   "outputs": [],
   "source": [
    "numeric_columns = [\"viewCount\", \"likeCount\", \"favoriteCount\", \"commentCount\"]\n",
    "videos_df[numeric_columns] = videos_df[numeric_columns].apply(pd.to_numeric, errors = \"coerce\", axis = 1)"
   ]
  },
  {
   "cell_type": "code",
   "execution_count": 11,
   "metadata": {},
   "outputs": [],
   "source": [
    "videos_df[\"publishedAt\"] = pd.to_datetime(videos_df[\"publishedAt\"])\n",
    "videos_df[\"publishedAtWeekday\"] = videos_df[\"publishedAt\"].map(lambda x: x.strftime(\"%A\"))\n",
    "videos_df[\"publishedAtDay\"] = videos_df[\"publishedAt\"].map(lambda x: str(x)[:10])\n",
    "videos_df[\"publishedAtHour\"] = videos_df[\"publishedAt\"].dt.hour"
   ]
  },
  {
   "cell_type": "code",
   "execution_count": 12,
   "metadata": {},
   "outputs": [],
   "source": [
    "videos_df[\"duration\"] = videos_df[\"duration\"].map(lambda x: isodate.parse_duration(x))\n",
    "videos_df[\"duration\"] = videos_df[\"duration\"].astype(\"timedelta64[s]\")"
   ]
  },
  {
   "cell_type": "code",
   "execution_count": 13,
   "metadata": {},
   "outputs": [
    {
     "name": "stdout",
     "output_type": "stream",
     "text": [
      "(1215, 16)\n"
     ]
    },
    {
     "data": {
      "text/html": [
       "<div>\n",
       "<style scoped>\n",
       "    .dataframe tbody tr th:only-of-type {\n",
       "        vertical-align: middle;\n",
       "    }\n",
       "\n",
       "    .dataframe tbody tr th {\n",
       "        vertical-align: top;\n",
       "    }\n",
       "\n",
       "    .dataframe thead th {\n",
       "        text-align: right;\n",
       "    }\n",
       "</style>\n",
       "<table border=\"1\" class=\"dataframe\">\n",
       "  <thead>\n",
       "    <tr style=\"text-align: right;\">\n",
       "      <th></th>\n",
       "      <th>videoId</th>\n",
       "      <th>channelTitle</th>\n",
       "      <th>title</th>\n",
       "      <th>description</th>\n",
       "      <th>tags</th>\n",
       "      <th>publishedAt</th>\n",
       "      <th>duration</th>\n",
       "      <th>definition</th>\n",
       "      <th>caption</th>\n",
       "      <th>viewCount</th>\n",
       "      <th>likeCount</th>\n",
       "      <th>favoriteCount</th>\n",
       "      <th>commentCount</th>\n",
       "      <th>publishedAtWeekday</th>\n",
       "      <th>publishedAtDay</th>\n",
       "      <th>publishedAtHour</th>\n",
       "    </tr>\n",
       "  </thead>\n",
       "  <tbody>\n",
       "    <tr>\n",
       "      <th>0</th>\n",
       "      <td>7Bt7XLWIwOI</td>\n",
       "      <td>Graham Stephan</td>\n",
       "      <td>The Biggest Market Crash Of Our Generation Is ...</td>\n",
       "      <td>Go to http://public.com/graham and use code GR...</td>\n",
       "      <td>[investing, investing for beginners, investing...</td>\n",
       "      <td>2022-07-11 22:00:04+00:00</td>\n",
       "      <td>896.0</td>\n",
       "      <td>hd</td>\n",
       "      <td>false</td>\n",
       "      <td>25981.0</td>\n",
       "      <td>2109.0</td>\n",
       "      <td>0.0</td>\n",
       "      <td>389.0</td>\n",
       "      <td>Monday</td>\n",
       "      <td>2022-07-11</td>\n",
       "      <td>22</td>\n",
       "    </tr>\n",
       "    <tr>\n",
       "      <th>1</th>\n",
       "      <td>IQe4LqIODoA</td>\n",
       "      <td>Graham Stephan</td>\n",
       "      <td>The Housing Market Bubble Just Popped</td>\n",
       "      <td>Lets talk about the current state of the housi...</td>\n",
       "      <td>[investing, investing for beginners, investing...</td>\n",
       "      <td>2022-07-08 22:00:14+00:00</td>\n",
       "      <td>727.0</td>\n",
       "      <td>hd</td>\n",
       "      <td>false</td>\n",
       "      <td>440063.0</td>\n",
       "      <td>20145.0</td>\n",
       "      <td>0.0</td>\n",
       "      <td>1841.0</td>\n",
       "      <td>Friday</td>\n",
       "      <td>2022-07-08</td>\n",
       "      <td>22</td>\n",
       "    </tr>\n",
       "    <tr>\n",
       "      <th>2</th>\n",
       "      <td>Qdwy6IyZVTc</td>\n",
       "      <td>Graham Stephan</td>\n",
       "      <td>An URGENT Warning For ALL Crypto Investors</td>\n",
       "      <td>Thanks to Mine for Sponsoring: Find out which ...</td>\n",
       "      <td>[investing, investing for beginners, investing...</td>\n",
       "      <td>2022-07-06 21:30:02+00:00</td>\n",
       "      <td>794.0</td>\n",
       "      <td>hd</td>\n",
       "      <td>false</td>\n",
       "      <td>336090.0</td>\n",
       "      <td>14612.0</td>\n",
       "      <td>0.0</td>\n",
       "      <td>1498.0</td>\n",
       "      <td>Wednesday</td>\n",
       "      <td>2022-07-06</td>\n",
       "      <td>21</td>\n",
       "    </tr>\n",
       "    <tr>\n",
       "      <th>3</th>\n",
       "      <td>qYHVv3YwHMc</td>\n",
       "      <td>Graham Stephan</td>\n",
       "      <td>The Mother Of All Crashes Is Coming | Michael ...</td>\n",
       "      <td>GET UP TO $100 OF FREE CRYPTO: Trade Bitcoin, ...</td>\n",
       "      <td>[investing, investing for beginners, investing...</td>\n",
       "      <td>2022-07-01 20:00:12+00:00</td>\n",
       "      <td>775.0</td>\n",
       "      <td>hd</td>\n",
       "      <td>false</td>\n",
       "      <td>677600.0</td>\n",
       "      <td>29372.0</td>\n",
       "      <td>0.0</td>\n",
       "      <td>1602.0</td>\n",
       "      <td>Friday</td>\n",
       "      <td>2022-07-01</td>\n",
       "      <td>20</td>\n",
       "    </tr>\n",
       "    <tr>\n",
       "      <th>4</th>\n",
       "      <td>YGq_o-p_i8I</td>\n",
       "      <td>Graham Stephan</td>\n",
       "      <td>The Car Market Bubble Just Popped</td>\n",
       "      <td>Enter at https://www.omaze.com/stephan for you...</td>\n",
       "      <td>[investing, investing for beginners, investing...</td>\n",
       "      <td>2022-06-29 21:00:14+00:00</td>\n",
       "      <td>782.0</td>\n",
       "      <td>hd</td>\n",
       "      <td>false</td>\n",
       "      <td>1133545.0</td>\n",
       "      <td>47011.0</td>\n",
       "      <td>0.0</td>\n",
       "      <td>2762.0</td>\n",
       "      <td>Wednesday</td>\n",
       "      <td>2022-06-29</td>\n",
       "      <td>21</td>\n",
       "    </tr>\n",
       "  </tbody>\n",
       "</table>\n",
       "</div>"
      ],
      "text/plain": [
       "       videoId    channelTitle  \\\n",
       "0  7Bt7XLWIwOI  Graham Stephan   \n",
       "1  IQe4LqIODoA  Graham Stephan   \n",
       "2  Qdwy6IyZVTc  Graham Stephan   \n",
       "3  qYHVv3YwHMc  Graham Stephan   \n",
       "4  YGq_o-p_i8I  Graham Stephan   \n",
       "\n",
       "                                               title  \\\n",
       "0  The Biggest Market Crash Of Our Generation Is ...   \n",
       "1              The Housing Market Bubble Just Popped   \n",
       "2         An URGENT Warning For ALL Crypto Investors   \n",
       "3  The Mother Of All Crashes Is Coming | Michael ...   \n",
       "4                  The Car Market Bubble Just Popped   \n",
       "\n",
       "                                         description  \\\n",
       "0  Go to http://public.com/graham and use code GR...   \n",
       "1  Lets talk about the current state of the housi...   \n",
       "2  Thanks to Mine for Sponsoring: Find out which ...   \n",
       "3  GET UP TO $100 OF FREE CRYPTO: Trade Bitcoin, ...   \n",
       "4  Enter at https://www.omaze.com/stephan for you...   \n",
       "\n",
       "                                                tags  \\\n",
       "0  [investing, investing for beginners, investing...   \n",
       "1  [investing, investing for beginners, investing...   \n",
       "2  [investing, investing for beginners, investing...   \n",
       "3  [investing, investing for beginners, investing...   \n",
       "4  [investing, investing for beginners, investing...   \n",
       "\n",
       "                publishedAt  duration definition caption  viewCount  \\\n",
       "0 2022-07-11 22:00:04+00:00     896.0         hd   false    25981.0   \n",
       "1 2022-07-08 22:00:14+00:00     727.0         hd   false   440063.0   \n",
       "2 2022-07-06 21:30:02+00:00     794.0         hd   false   336090.0   \n",
       "3 2022-07-01 20:00:12+00:00     775.0         hd   false   677600.0   \n",
       "4 2022-06-29 21:00:14+00:00     782.0         hd   false  1133545.0   \n",
       "\n",
       "   likeCount  favoriteCount  commentCount publishedAtWeekday publishedAtDay  \\\n",
       "0     2109.0            0.0         389.0             Monday     2022-07-11   \n",
       "1    20145.0            0.0        1841.0             Friday     2022-07-08   \n",
       "2    14612.0            0.0        1498.0          Wednesday     2022-07-06   \n",
       "3    29372.0            0.0        1602.0             Friday     2022-07-01   \n",
       "4    47011.0            0.0        2762.0          Wednesday     2022-06-29   \n",
       "\n",
       "   publishedAtHour  \n",
       "0               22  \n",
       "1               22  \n",
       "2               21  \n",
       "3               20  \n",
       "4               21  "
      ]
     },
     "metadata": {},
     "output_type": "display_data"
    }
   ],
   "source": [
    "print(videos_df.shape)\n",
    "display(videos_df.head())"
   ]
  },
  {
   "cell_type": "code",
   "execution_count": 14,
   "metadata": {},
   "outputs": [],
   "source": [
    "videos_df[\"tags\"] = videos_df[\"tags\"].fillna(\"[]\")"
   ]
  },
  {
   "cell_type": "code",
   "execution_count": 15,
   "metadata": {},
   "outputs": [],
   "source": [
    "cwd = Path().absolute()\n",
    "output_dir = f\"{cwd}/outputs\"\n",
    "Path(output_dir).mkdir(parents = True, exist_ok = True)\n",
    "\n",
    "videos_df.to_csv(f\"{output_dir}/videoInfo.csv\", index = False)"
   ]
  },
  {
   "cell_type": "code",
   "execution_count": null,
   "metadata": {},
   "outputs": [],
   "source": []
  }
 ],
 "metadata": {
  "kernelspec": {
   "display_name": "Python 3",
   "language": "python",
   "name": "python3"
  },
  "language_info": {
   "codemirror_mode": {
    "name": "ipython",
    "version": 3
   },
   "file_extension": ".py",
   "mimetype": "text/x-python",
   "name": "python",
   "nbconvert_exporter": "python",
   "pygments_lexer": "ipython3",
   "version": "3.6.7"
  }
 },
 "nbformat": 4,
 "nbformat_minor": 4
}
