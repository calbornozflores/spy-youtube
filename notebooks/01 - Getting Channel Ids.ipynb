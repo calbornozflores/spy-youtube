{
 "cells": [
  {
   "cell_type": "code",
   "execution_count": 1,
   "metadata": {},
   "outputs": [],
   "source": [
    "from googleapiclient.discovery import build"
   ]
  },
  {
   "cell_type": "code",
   "execution_count": 2,
   "metadata": {},
   "outputs": [],
   "source": [
    "api_key = open('API_KEY.txt','r').readline()"
   ]
  },
  {
   "cell_type": "code",
   "execution_count": 7,
   "metadata": {},
   "outputs": [
    {
     "name": "stdout",
     "output_type": "stream",
     "text": [
      "{'kind': 'youtube#searchListResponse', 'etag': 'kbTwfSwfapQv2Kg5An74vswgflo', 'nextPageToken': 'CAUQAA', 'regionCode': 'CL', 'pageInfo': {'totalResults': 222, 'resultsPerPage': 5}, 'items': [{'kind': 'youtube#searchResult', 'etag': 'khyH8EfPKRP3tUxOOonFFVRF8H8', 'id': {'kind': 'youtube#channel', 'channelId': 'UCGy7SkBjcIAgTiwkXEtPnYg'}, 'snippet': {'publishedAt': '2017-03-24T00:43:42Z', 'channelId': 'UCGy7SkBjcIAgTiwkXEtPnYg', 'title': 'Andrei Jikh', 'description': 'I will NEVER contact you for business or promotions (even if it comes from my legit email). I will not use IG, Telegram, or whatsapp ...', 'thumbnails': {'default': {'url': 'https://yt3.ggpht.com/ytc/AKedOLQbUCqhdjt8H8cC7bev_KPcQ-OKuwG-DRrZ3hws_Q=s88-c-k-c0xffffffff-no-rj-mo'}, 'medium': {'url': 'https://yt3.ggpht.com/ytc/AKedOLQbUCqhdjt8H8cC7bev_KPcQ-OKuwG-DRrZ3hws_Q=s240-c-k-c0xffffffff-no-rj-mo'}, 'high': {'url': 'https://yt3.ggpht.com/ytc/AKedOLQbUCqhdjt8H8cC7bev_KPcQ-OKuwG-DRrZ3hws_Q=s800-c-k-c0xffffffff-no-rj-mo'}}, 'channelTitle': 'Andrei Jikh', 'liveBroadcastContent': 'none', 'publishTime': '2017-03-24T00:43:42Z'}}, {'kind': 'youtube#searchResult', 'etag': 'mPvCoQenem-YCMdwJHB7UOzPeIc', 'id': {'kind': 'youtube#channel', 'channelId': 'UCTWRY58L0HaAtHYFF3QXkGQ'}, 'snippet': {'publishedAt': '2022-02-27T12:52:34Z', 'channelId': 'UCTWRY58L0HaAtHYFF3QXkGQ', 'title': 'Andrei Jikh', 'description': \"I will never contact you for business or promotion (even if it comes from my legit email I'll never use IG,Telegram or WhatsApp to ...\", 'thumbnails': {'default': {'url': 'https://yt3.ggpht.com/SVcIc3lfzeUDofqNGR7eoug2_rbM3QOcjj_bYmmbUj7aevpIgBu7cXe61A8TowjY5EUt2mitkg=s88-c-k-c0xffffffff-no-rj-mo'}, 'medium': {'url': 'https://yt3.ggpht.com/SVcIc3lfzeUDofqNGR7eoug2_rbM3QOcjj_bYmmbUj7aevpIgBu7cXe61A8TowjY5EUt2mitkg=s240-c-k-c0xffffffff-no-rj-mo'}, 'high': {'url': 'https://yt3.ggpht.com/SVcIc3lfzeUDofqNGR7eoug2_rbM3QOcjj_bYmmbUj7aevpIgBu7cXe61A8TowjY5EUt2mitkg=s800-c-k-c0xffffffff-no-rj-mo'}}, 'channelTitle': 'Andrei Jikh', 'liveBroadcastContent': 'none', 'publishTime': '2022-02-27T12:52:34Z'}}, {'kind': 'youtube#searchResult', 'etag': 'V9tZudU11o9d0jjFZNUuZ0W4w6Q', 'id': {'kind': 'youtube#channel', 'channelId': 'UC0XmtBov-IkvsGqsOupORZQ'}, 'snippet': {'publishedAt': '2021-01-20T13:12:14Z', 'channelId': 'UC0XmtBov-IkvsGqsOupORZQ', 'title': 'Andrei Jikh', 'description': 'Finance breakthrough.mentor,tutor and a teacher.', 'thumbnails': {'default': {'url': 'https://yt3.ggpht.com/ytc/AKedOLTZm7_70esb_5sWqrgKOG01QZ5Cuy4c10eHDKo1=s88-c-k-c0xffffffff-no-rj-mo'}, 'medium': {'url': 'https://yt3.ggpht.com/ytc/AKedOLTZm7_70esb_5sWqrgKOG01QZ5Cuy4c10eHDKo1=s240-c-k-c0xffffffff-no-rj-mo'}, 'high': {'url': 'https://yt3.ggpht.com/ytc/AKedOLTZm7_70esb_5sWqrgKOG01QZ5Cuy4c10eHDKo1=s800-c-k-c0xffffffff-no-rj-mo'}}, 'channelTitle': 'Andrei Jikh', 'liveBroadcastContent': 'none', 'publishTime': '2021-01-20T13:12:14Z'}}, {'kind': 'youtube#searchResult', 'etag': '8svGhnK5DFm-iYZbSqelg-bGMSg', 'id': {'kind': 'youtube#channel', 'channelId': 'UCV4hcFY9H8QJKbl59QHCuIA'}, 'snippet': {'publishedAt': '2006-02-27T10:50:29Z', 'channelId': 'UCV4hcFY9H8QJKbl59QHCuIA', 'title': 'Orbit', 'description': 'Founded in 2012, Orbit represents an underground community of cardists and card lovers.', 'thumbnails': {'default': {'url': 'https://yt3.ggpht.com/74EuoQvM2qpagCj4Z8Y7Cet9im73h9o5TXtxExv8Nxeq9EGez1gq7jvZtC-DSsEgTjPHDMAO4w=s88-c-k-c0xffffffff-no-rj-mo'}, 'medium': {'url': 'https://yt3.ggpht.com/74EuoQvM2qpagCj4Z8Y7Cet9im73h9o5TXtxExv8Nxeq9EGez1gq7jvZtC-DSsEgTjPHDMAO4w=s240-c-k-c0xffffffff-no-rj-mo'}, 'high': {'url': 'https://yt3.ggpht.com/74EuoQvM2qpagCj4Z8Y7Cet9im73h9o5TXtxExv8Nxeq9EGez1gq7jvZtC-DSsEgTjPHDMAO4w=s800-c-k-c0xffffffff-no-rj-mo'}}, 'channelTitle': 'Orbit', 'liveBroadcastContent': 'none', 'publishTime': '2006-02-27T10:50:29Z'}}, {'kind': 'youtube#searchResult', 'etag': 'OjtKdmJpV5PkDvAkFBir3UT6JRA', 'id': {'kind': 'youtube#channel', 'channelId': 'UCba3SQ21k_HmmAExWda25Og'}, 'snippet': {'publishedAt': '2017-08-13T09:48:04Z', 'channelId': 'UCba3SQ21k_HmmAExWda25Og', 'title': 'Andrei Jikh', 'description': '', 'thumbnails': {'default': {'url': 'https://yt3.ggpht.com/i-0nilCuBDPEIHDnOpcP2nfp2mf7tw4OqYL5vfVgbrJu_c-dl0brUA_7ly1q6XerfUVLby-h=s88-c-k-c0xffffffff-no-rj-mo'}, 'medium': {'url': 'https://yt3.ggpht.com/i-0nilCuBDPEIHDnOpcP2nfp2mf7tw4OqYL5vfVgbrJu_c-dl0brUA_7ly1q6XerfUVLby-h=s240-c-k-c0xffffffff-no-rj-mo'}, 'high': {'url': 'https://yt3.ggpht.com/i-0nilCuBDPEIHDnOpcP2nfp2mf7tw4OqYL5vfVgbrJu_c-dl0brUA_7ly1q6XerfUVLby-h=s800-c-k-c0xffffffff-no-rj-mo'}}, 'channelTitle': 'Andrei Jikh', 'liveBroadcastContent': 'none', 'publishTime': '2017-08-13T09:48:04Z'}}]}\n"
     ]
    }
   ],
   "source": [
    "api_service_name = \"youtube\"\n",
    "api_version = \"v3\"\n",
    "\n",
    "youtube = build(api_service_name, api_version, developerKey=api_key)\n",
    "\n",
    "request = youtube.search().list(\n",
    "        part=\"snippet\",\n",
    "        #q=\"GrahamStephan\",\n",
    "        q=\"AndreiJikh\",\n",
    "        type=\"channel\"\n",
    "    )\n",
    "response = request.execute()\n",
    "\n",
    "print(response)"
   ]
  },
  {
   "cell_type": "code",
   "execution_count": null,
   "metadata": {},
   "outputs": [],
   "source": []
  }
 ],
 "metadata": {
  "kernelspec": {
   "display_name": "Python 3",
   "language": "python",
   "name": "python3"
  },
  "language_info": {
   "codemirror_mode": {
    "name": "ipython",
    "version": 3
   },
   "file_extension": ".py",
   "mimetype": "text/x-python",
   "name": "python",
   "nbconvert_exporter": "python",
   "pygments_lexer": "ipython3",
   "version": "3.6.7"
  }
 },
 "nbformat": 4,
 "nbformat_minor": 4
}
