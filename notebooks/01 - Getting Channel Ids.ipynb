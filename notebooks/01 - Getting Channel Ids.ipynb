{
 "cells": [
  {
   "cell_type": "code",
   "execution_count": 1,
   "metadata": {},
   "outputs": [],
   "source": [
    "from googleapiclient.discovery import build\n",
    "from IPython.display import JSON"
   ]
  },
  {
   "cell_type": "code",
   "execution_count": 2,
   "metadata": {},
   "outputs": [],
   "source": [
    "api_key = open('API_KEY.txt','r').readline()"
   ]
  },
  {
   "cell_type": "code",
   "execution_count": 3,
   "metadata": {},
   "outputs": [
    {
     "data": {
      "application/json": {
       "etag": "pp1faFqhIemgqPiTVKZxKUK1_xI",
       "items": [
        {
         "etag": "khyH8EfPKRP3tUxOOonFFVRF8H8",
         "id": {
          "channelId": "UCGy7SkBjcIAgTiwkXEtPnYg",
          "kind": "youtube#channel"
         },
         "kind": "youtube#searchResult",
         "snippet": {
          "channelId": "UCGy7SkBjcIAgTiwkXEtPnYg",
          "channelTitle": "Andrei Jikh",
          "description": "I will NEVER contact you for business or promotions (even if it comes from my legit email). I will not use IG, Telegram, or whatsapp ...",
          "liveBroadcastContent": "none",
          "publishTime": "2017-03-24T00:43:42Z",
          "publishedAt": "2017-03-24T00:43:42Z",
          "thumbnails": {
           "default": {
            "url": "https://yt3.ggpht.com/ytc/AKedOLQbUCqhdjt8H8cC7bev_KPcQ-OKuwG-DRrZ3hws_Q=s88-c-k-c0xffffffff-no-rj-mo"
           },
           "high": {
            "url": "https://yt3.ggpht.com/ytc/AKedOLQbUCqhdjt8H8cC7bev_KPcQ-OKuwG-DRrZ3hws_Q=s800-c-k-c0xffffffff-no-rj-mo"
           },
           "medium": {
            "url": "https://yt3.ggpht.com/ytc/AKedOLQbUCqhdjt8H8cC7bev_KPcQ-OKuwG-DRrZ3hws_Q=s240-c-k-c0xffffffff-no-rj-mo"
           }
          },
          "title": "Andrei Jikh"
         }
        },
        {
         "etag": "mPvCoQenem-YCMdwJHB7UOzPeIc",
         "id": {
          "channelId": "UCTWRY58L0HaAtHYFF3QXkGQ",
          "kind": "youtube#channel"
         },
         "kind": "youtube#searchResult",
         "snippet": {
          "channelId": "UCTWRY58L0HaAtHYFF3QXkGQ",
          "channelTitle": "Andrei Jikh",
          "description": "I will never contact you for business or promotion (even if it comes from my legit email I'll never use IG,Telegram or WhatsApp to ...",
          "liveBroadcastContent": "none",
          "publishTime": "2022-02-27T12:52:34Z",
          "publishedAt": "2022-02-27T12:52:34Z",
          "thumbnails": {
           "default": {
            "url": "https://yt3.ggpht.com/SVcIc3lfzeUDofqNGR7eoug2_rbM3QOcjj_bYmmbUj7aevpIgBu7cXe61A8TowjY5EUt2mitkg=s88-c-k-c0xffffffff-no-rj-mo"
           },
           "high": {
            "url": "https://yt3.ggpht.com/SVcIc3lfzeUDofqNGR7eoug2_rbM3QOcjj_bYmmbUj7aevpIgBu7cXe61A8TowjY5EUt2mitkg=s800-c-k-c0xffffffff-no-rj-mo"
           },
           "medium": {
            "url": "https://yt3.ggpht.com/SVcIc3lfzeUDofqNGR7eoug2_rbM3QOcjj_bYmmbUj7aevpIgBu7cXe61A8TowjY5EUt2mitkg=s240-c-k-c0xffffffff-no-rj-mo"
           }
          },
          "title": "Andrei Jikh"
         }
        },
        {
         "etag": "V9tZudU11o9d0jjFZNUuZ0W4w6Q",
         "id": {
          "channelId": "UC0XmtBov-IkvsGqsOupORZQ",
          "kind": "youtube#channel"
         },
         "kind": "youtube#searchResult",
         "snippet": {
          "channelId": "UC0XmtBov-IkvsGqsOupORZQ",
          "channelTitle": "Andrei Jikh",
          "description": "Finance breakthrough.mentor,tutor and a teacher.",
          "liveBroadcastContent": "none",
          "publishTime": "2021-01-20T13:12:14Z",
          "publishedAt": "2021-01-20T13:12:14Z",
          "thumbnails": {
           "default": {
            "url": "https://yt3.ggpht.com/ytc/AKedOLTZm7_70esb_5sWqrgKOG01QZ5Cuy4c10eHDKo1=s88-c-k-c0xffffffff-no-rj-mo"
           },
           "high": {
            "url": "https://yt3.ggpht.com/ytc/AKedOLTZm7_70esb_5sWqrgKOG01QZ5Cuy4c10eHDKo1=s800-c-k-c0xffffffff-no-rj-mo"
           },
           "medium": {
            "url": "https://yt3.ggpht.com/ytc/AKedOLTZm7_70esb_5sWqrgKOG01QZ5Cuy4c10eHDKo1=s240-c-k-c0xffffffff-no-rj-mo"
           }
          },
          "title": "Andrei Jikh"
         }
        },
        {
         "etag": "8svGhnK5DFm-iYZbSqelg-bGMSg",
         "id": {
          "channelId": "UCV4hcFY9H8QJKbl59QHCuIA",
          "kind": "youtube#channel"
         },
         "kind": "youtube#searchResult",
         "snippet": {
          "channelId": "UCV4hcFY9H8QJKbl59QHCuIA",
          "channelTitle": "Orbit",
          "description": "Founded in 2012, Orbit represents an underground community of cardists and card lovers.",
          "liveBroadcastContent": "none",
          "publishTime": "2006-02-27T10:50:29Z",
          "publishedAt": "2006-02-27T10:50:29Z",
          "thumbnails": {
           "default": {
            "url": "https://yt3.ggpht.com/74EuoQvM2qpagCj4Z8Y7Cet9im73h9o5TXtxExv8Nxeq9EGez1gq7jvZtC-DSsEgTjPHDMAO4w=s88-c-k-c0xffffffff-no-rj-mo"
           },
           "high": {
            "url": "https://yt3.ggpht.com/74EuoQvM2qpagCj4Z8Y7Cet9im73h9o5TXtxExv8Nxeq9EGez1gq7jvZtC-DSsEgTjPHDMAO4w=s800-c-k-c0xffffffff-no-rj-mo"
           },
           "medium": {
            "url": "https://yt3.ggpht.com/74EuoQvM2qpagCj4Z8Y7Cet9im73h9o5TXtxExv8Nxeq9EGez1gq7jvZtC-DSsEgTjPHDMAO4w=s240-c-k-c0xffffffff-no-rj-mo"
           }
          },
          "title": "Orbit"
         }
        },
        {
         "etag": "OjtKdmJpV5PkDvAkFBir3UT6JRA",
         "id": {
          "channelId": "UCba3SQ21k_HmmAExWda25Og",
          "kind": "youtube#channel"
         },
         "kind": "youtube#searchResult",
         "snippet": {
          "channelId": "UCba3SQ21k_HmmAExWda25Og",
          "channelTitle": "Andrei Jikh",
          "description": "",
          "liveBroadcastContent": "none",
          "publishTime": "2017-08-13T09:48:04Z",
          "publishedAt": "2017-08-13T09:48:04Z",
          "thumbnails": {
           "default": {
            "url": "https://yt3.ggpht.com/i-0nilCuBDPEIHDnOpcP2nfp2mf7tw4OqYL5vfVgbrJu_c-dl0brUA_7ly1q6XerfUVLby-h=s88-c-k-c0xffffffff-no-rj-mo"
           },
           "high": {
            "url": "https://yt3.ggpht.com/i-0nilCuBDPEIHDnOpcP2nfp2mf7tw4OqYL5vfVgbrJu_c-dl0brUA_7ly1q6XerfUVLby-h=s800-c-k-c0xffffffff-no-rj-mo"
           },
           "medium": {
            "url": "https://yt3.ggpht.com/i-0nilCuBDPEIHDnOpcP2nfp2mf7tw4OqYL5vfVgbrJu_c-dl0brUA_7ly1q6XerfUVLby-h=s240-c-k-c0xffffffff-no-rj-mo"
           }
          },
          "title": "Andrei Jikh"
         }
        }
       ],
       "kind": "youtube#searchListResponse",
       "nextPageToken": "CAUQAA",
       "pageInfo": {
        "resultsPerPage": 5,
        "totalResults": 216
       },
       "regionCode": "CL"
      },
      "text/plain": [
       "<IPython.core.display.JSON object>"
      ]
     },
     "execution_count": 3,
     "metadata": {
      "application/json": {
       "expanded": false,
       "root": "root"
      }
     },
     "output_type": "execute_result"
    }
   ],
   "source": [
    "api_service_name = \"youtube\"\n",
    "api_version = \"v3\"\n",
    "\n",
    "youtube = build(api_service_name, api_version, developerKey=api_key)\n",
    "\n",
    "request = youtube.search().list(\n",
    "        part=\"snippet\",\n",
    "        #q=\"GrahamStephan\",\n",
    "        q=\"AndreiJikh\",\n",
    "        type=\"channel\"\n",
    "    )\n",
    "response = request.execute()\n",
    "\n",
    "JSON(response)"
   ]
  },
  {
   "cell_type": "code",
   "execution_count": null,
   "metadata": {},
   "outputs": [],
   "source": []
  }
 ],
 "metadata": {
  "kernelspec": {
   "display_name": "Python 3",
   "language": "python",
   "name": "python3"
  },
  "language_info": {
   "codemirror_mode": {
    "name": "ipython",
    "version": 3
   },
   "file_extension": ".py",
   "mimetype": "text/x-python",
   "name": "python",
   "nbconvert_exporter": "python",
   "pygments_lexer": "ipython3",
   "version": "3.6.7"
  }
 },
 "nbformat": 4,
 "nbformat_minor": 4
}
