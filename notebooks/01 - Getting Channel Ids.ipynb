{
 "cells": [
  {
   "cell_type": "code",
   "execution_count": 1,
   "metadata": {},
   "outputs": [],
   "source": [
    "from googleapiclient.discovery import build\n",
    "from IPython.display import JSON"
   ]
  },
  {
   "cell_type": "code",
   "execution_count": 2,
   "metadata": {},
   "outputs": [],
   "source": [
    "api_key = open('API_KEY.txt', 'r').readline()"
   ]
  },
  {
   "cell_type": "code",
   "execution_count": 3,
   "metadata": {},
   "outputs": [
    {
     "data": {
      "application/json": {
       "etag": "HWMcDXc_IZaCcCG-kK9xC6eglIU",
       "items": [
        {
         "etag": "pxcI5dJatAZD5ULW36pl_OLLsUs",
         "id": {
          "channelId": "UCGy7SkBjcIAgTiwkXEtPnYg",
          "kind": "youtube#channel"
         },
         "kind": "youtube#searchResult",
         "snippet": {
          "channelId": "UCGy7SkBjcIAgTiwkXEtPnYg",
          "channelTitle": "Andrei Jikh",
          "description": "I will NEVER contact you for business or promotions (even if it comes from my legit email). I will not use IG, Telegram, or whatsapp ...",
          "liveBroadcastContent": "none",
          "publishTime": "2017-03-24T00:43:42Z",
          "publishedAt": "2017-03-24T00:43:42Z",
          "thumbnails": {
           "default": {
            "url": "https://yt3.ggpht.com/ytc/AKedOLQbUCqhdjt8H8cC7bev_KPcQ-OKuwG-DRrZ3hws_Q=s88-c-k-c0xffffffff-no-rj-mo"
           },
           "high": {
            "url": "https://yt3.ggpht.com/ytc/AKedOLQbUCqhdjt8H8cC7bev_KPcQ-OKuwG-DRrZ3hws_Q=s800-c-k-c0xffffffff-no-rj-mo"
           },
           "medium": {
            "url": "https://yt3.ggpht.com/ytc/AKedOLQbUCqhdjt8H8cC7bev_KPcQ-OKuwG-DRrZ3hws_Q=s240-c-k-c0xffffffff-no-rj-mo"
           }
          },
          "title": "Andrei Jikh"
         }
        },
        {
         "etag": "jOQmWgS3G1Ac6G_UdbXi05Hojqk",
         "id": {
          "channelId": "UC8xQBarPG3lqzGmVSU5MoKw",
          "kind": "youtube#channel"
         },
         "kind": "youtube#searchResult",
         "snippet": {
          "channelId": "UC8xQBarPG3lqzGmVSU5MoKw",
          "channelTitle": "ItsAnnaD",
          "description": "ItAnnaD is my magic channel. So if you like wizardry subscribe.",
          "liveBroadcastContent": "upcoming",
          "publishTime": "2013-04-20T18:30:47Z",
          "publishedAt": "2013-04-20T18:30:47Z",
          "thumbnails": {
           "default": {
            "url": "https://yt3.ggpht.com/ytc/AKedOLRx-vumRmCaSaQz6WOZaHf5eyEgffJLBGE5hK_P2A=s88-c-k-c0xffffffff-no-rj-mo"
           },
           "high": {
            "url": "https://yt3.ggpht.com/ytc/AKedOLRx-vumRmCaSaQz6WOZaHf5eyEgffJLBGE5hK_P2A=s800-c-k-c0xffffffff-no-rj-mo"
           },
           "medium": {
            "url": "https://yt3.ggpht.com/ytc/AKedOLRx-vumRmCaSaQz6WOZaHf5eyEgffJLBGE5hK_P2A=s240-c-k-c0xffffffff-no-rj-mo"
           }
          },
          "title": "ItsAnnaD"
         }
        },
        {
         "etag": "OjtKdmJpV5PkDvAkFBir3UT6JRA",
         "id": {
          "channelId": "UCba3SQ21k_HmmAExWda25Og",
          "kind": "youtube#channel"
         },
         "kind": "youtube#searchResult",
         "snippet": {
          "channelId": "UCba3SQ21k_HmmAExWda25Og",
          "channelTitle": "Andrei Jikh",
          "description": "",
          "liveBroadcastContent": "none",
          "publishTime": "2017-08-13T09:48:04Z",
          "publishedAt": "2017-08-13T09:48:04Z",
          "thumbnails": {
           "default": {
            "url": "https://yt3.ggpht.com/i-0nilCuBDPEIHDnOpcP2nfp2mf7tw4OqYL5vfVgbrJu_c-dl0brUA_7ly1q6XerfUVLby-h=s88-c-k-c0xffffffff-no-rj-mo"
           },
           "high": {
            "url": "https://yt3.ggpht.com/i-0nilCuBDPEIHDnOpcP2nfp2mf7tw4OqYL5vfVgbrJu_c-dl0brUA_7ly1q6XerfUVLby-h=s800-c-k-c0xffffffff-no-rj-mo"
           },
           "medium": {
            "url": "https://yt3.ggpht.com/i-0nilCuBDPEIHDnOpcP2nfp2mf7tw4OqYL5vfVgbrJu_c-dl0brUA_7ly1q6XerfUVLby-h=s240-c-k-c0xffffffff-no-rj-mo"
           }
          },
          "title": "Andrei Jikh"
         }
        },
        {
         "etag": "V9tZudU11o9d0jjFZNUuZ0W4w6Q",
         "id": {
          "channelId": "UC0XmtBov-IkvsGqsOupORZQ",
          "kind": "youtube#channel"
         },
         "kind": "youtube#searchResult",
         "snippet": {
          "channelId": "UC0XmtBov-IkvsGqsOupORZQ",
          "channelTitle": "Andrei Jikh",
          "description": "Finance breakthrough.mentor,tutor and a teacher.",
          "liveBroadcastContent": "none",
          "publishTime": "2021-01-20T13:12:14Z",
          "publishedAt": "2021-01-20T13:12:14Z",
          "thumbnails": {
           "default": {
            "url": "https://yt3.ggpht.com/ytc/AKedOLTZm7_70esb_5sWqrgKOG01QZ5Cuy4c10eHDKo1=s88-c-k-c0xffffffff-no-rj-mo"
           },
           "high": {
            "url": "https://yt3.ggpht.com/ytc/AKedOLTZm7_70esb_5sWqrgKOG01QZ5Cuy4c10eHDKo1=s800-c-k-c0xffffffff-no-rj-mo"
           },
           "medium": {
            "url": "https://yt3.ggpht.com/ytc/AKedOLTZm7_70esb_5sWqrgKOG01QZ5Cuy4c10eHDKo1=s240-c-k-c0xffffffff-no-rj-mo"
           }
          },
          "title": "Andrei Jikh"
         }
        },
        {
         "etag": "f3ZgUCMzvwAcd5ZTw7rW3q6BFM8",
         "id": {
          "channelId": "UCZrHhiL4Ggbx6OxB_XiyFrg",
          "kind": "youtube#channel"
         },
         "kind": "youtube#searchResult",
         "snippet": {
          "channelId": "UCZrHhiL4Ggbx6OxB_XiyFrg",
          "channelTitle": "rshaddock",
          "description": "The Rick Channel Where I Buy Bitcoin: https://www.gemini.com/share/jzlgv9f9 ▻ Get up to a $250 in Digital Currency: ...",
          "liveBroadcastContent": "none",
          "publishTime": "2007-10-04T14:51:43Z",
          "publishedAt": "2007-10-04T14:51:43Z",
          "thumbnails": {
           "default": {
            "url": "https://yt3.ggpht.com/ytc/AKedOLSzCeSQTARcWjS-bd7gFfOXXjOYTbA9McyFxgJC=s88-c-k-c0xffffffff-no-rj-mo"
           },
           "high": {
            "url": "https://yt3.ggpht.com/ytc/AKedOLSzCeSQTARcWjS-bd7gFfOXXjOYTbA9McyFxgJC=s800-c-k-c0xffffffff-no-rj-mo"
           },
           "medium": {
            "url": "https://yt3.ggpht.com/ytc/AKedOLSzCeSQTARcWjS-bd7gFfOXXjOYTbA9McyFxgJC=s240-c-k-c0xffffffff-no-rj-mo"
           }
          },
          "title": "rshaddock"
         }
        }
       ],
       "kind": "youtube#searchListResponse",
       "nextPageToken": "CAUQAA",
       "pageInfo": {
        "resultsPerPage": 5,
        "totalResults": 210
       },
       "regionCode": "CL"
      },
      "text/plain": [
       "<IPython.core.display.JSON object>"
      ]
     },
     "execution_count": 3,
     "metadata": {
      "application/json": {
       "expanded": false,
       "root": "root"
      }
     },
     "output_type": "execute_result"
    }
   ],
   "source": [
    "api_service_name = \"youtube\"\n",
    "api_version = \"v3\"\n",
    "\n",
    "youtube = build(api_service_name, api_version, developerKey=api_key)\n",
    "\n",
    "request = youtube.search().list(\n",
    "        part=\"snippet\",\n",
    "        #q=\"GrahamStephan\",\n",
    "        q=\"AndreiJikh\",\n",
    "        type=\"channel\"\n",
    "    )\n",
    "response = request.execute()\n",
    "\n",
    "JSON(response)"
   ]
  },
  {
   "cell_type": "code",
   "execution_count": null,
   "metadata": {},
   "outputs": [],
   "source": []
  }
 ],
 "metadata": {
  "kernelspec": {
   "display_name": "Python 3",
   "language": "python",
   "name": "python3"
  },
  "language_info": {
   "codemirror_mode": {
    "name": "ipython",
    "version": 3
   },
   "file_extension": ".py",
   "mimetype": "text/x-python",
   "name": "python",
   "nbconvert_exporter": "python",
   "pygments_lexer": "ipython3",
   "version": "3.6.7"
  }
 },
 "nbformat": 4,
 "nbformat_minor": 4
}
